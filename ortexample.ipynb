{
 "cells": [
  {
   "cell_type": "code",
   "execution_count": 1,
   "metadata": {},
   "outputs": [],
   "source": [
    "import onnx\n",
    "import numpy as np\n",
    "from builder import *\n",
    "import onnxruntime as ort"
   ]
  },
  {
   "cell_type": "code",
   "execution_count": 10,
   "metadata": {},
   "outputs": [],
   "source": [
    "X = Placeholder()\n",
    "Y = Placeholder()\n",
    "b = Exporter()\n",
    "b.add_graph_input('x', X, np.float32, [None])\n",
    "b.add_graph_input('y', Y, np.float32, [None])\n",
    "b.add_graph_output('Z', X+Y, np.float32)\n",
    "md = b.export('Add test')\n",
    "session = ort.InferenceSession(md.SerializeToString())\n"
   ]
  },
  {
   "cell_type": "code",
   "execution_count": 11,
   "metadata": {},
   "outputs": [
    {
     "data": {
      "text/plain": [
       "[array([ 2.,  5., 13., 35.], dtype=float32)]"
      ]
     },
     "execution_count": 11,
     "metadata": {},
     "output_type": "execute_result"
    }
   ],
   "source": [
    "x = np.asarray([1,2,4,8], dtype=np.float32)\n",
    "y = np.asarray([1,3,9,27], dtype=np.float32)\n",
    "session.run(['Z'], {'x':ort.OrtValue.ortvalue_from_numpy(x), 'y':ort.OrtValue.ortvalue_from_numpy(y)})"
   ]
  },
  {
   "cell_type": "code",
   "execution_count": 12,
   "metadata": {},
   "outputs": [
    {
     "data": {
      "text/plain": [
       "[array([ 0.,  2.,  6., 12., 20., 30., 42., 56., 72., 90.], dtype=float32)]"
      ]
     },
     "execution_count": 12,
     "metadata": {},
     "output_type": "execute_result"
    }
   ],
   "source": [
    "x = np.asarray([i for i in range(10)], dtype=np.float32)\n",
    "y = np.asarray([i*i for i in range(10)], dtype=np.float32)\n",
    "session.run(['Z'], {'x':ort.OrtValue.ortvalue_from_numpy(x), 'y':ort.OrtValue.ortvalue_from_numpy(y)})"
   ]
  }
 ],
 "metadata": {
  "kernelspec": {
   "display_name": "Python 3.8.10 ('.env': venv)",
   "language": "python",
   "name": "python3"
  },
  "language_info": {
   "codemirror_mode": {
    "name": "ipython",
    "version": 3
   },
   "file_extension": ".py",
   "mimetype": "text/x-python",
   "name": "python",
   "nbconvert_exporter": "python",
   "pygments_lexer": "ipython3",
   "version": "3.8.10"
  },
  "orig_nbformat": 4,
  "vscode": {
   "interpreter": {
    "hash": "3334c4506a992b4f4ce0a23c91ec7ef050cfa6a13a90b8b92322b6c2a14a236b"
   }
  }
 },
 "nbformat": 4,
 "nbformat_minor": 2
}
